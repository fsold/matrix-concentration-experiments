{
 "cells": [
  {
   "cell_type": "code",
   "execution_count": 1,
   "id": "a2da69f4",
   "metadata": {
    "scrolled": true
   },
   "outputs": [
    {
     "data": {
      "text/plain": [
       "fano_matroid (generic function with 1 method)"
      ]
     },
     "execution_count": 1,
     "metadata": {},
     "output_type": "execute_result"
    }
   ],
   "source": [
    "include(\"distributions.jl\")"
   ]
  },
  {
   "cell_type": "markdown",
   "id": "9372f1ec",
   "metadata": {},
   "source": []
  },
  {
   "cell_type": "markdown",
   "id": "45b464c2",
   "metadata": {},
   "source": [
    "Let $y_1,y_2,\\dots,y_n$ and $y_1,y_2,\\dots,y_n$ be two collections of $d\\times d$ PSD matrices. Let $\\mu$ be a log concave distribution and $\\lambda \\in [0,1]$.\n",
    "\n",
    "Test for $x,y$\n",
    "$$ tr( e^{log(\\sum_S \\mu(S) e^{\\sum_{i\\in S} y_i}) +\\frac{1-\\lambda}{\\lambda} \\log( \\sum_S \\mu(S) e^{\\sum_{i\\in S} X_i})} ) $$\n",
    "$$\\leq tr( e^{ \\frac{1}{\\lambda} \\log(\\sum_S \\mu(S) e^{\\sum_{i\\in S} \\log(\\lambda e^{Y_i} + (1-\\lambda) e^{X_i} )})}) $$"
   ]
  },
  {
   "cell_type": "code",
   "execution_count": 2,
   "id": "163bad59",
   "metadata": {},
   "outputs": [],
   "source": [
    "n = 10;\n",
    "k = 6;\n",
    "d = 4;"
   ]
  },
  {
   "cell_type": "code",
   "execution_count": 3,
   "id": "897b7ac2",
   "metadata": {},
   "outputs": [
    {
     "ename": "LoadError",
     "evalue": "UndefVarError: power_k_dpp_mu not defined",
     "output_type": "error",
     "traceback": [
      "UndefVarError: power_k_dpp_mu not defined",
      "",
      "Stacktrace:",
      " [1] top-level scope",
      "   @ In[3]:1"
     ]
    }
   ],
   "source": [
    "mu = power_k_dpp_mu(n,k,0.3);\n",
    "lambda = 0.1;\n",
    "\n",
    "y = create_y(n,d);\n",
    "\n",
    "x = create_y(n,d);\n",
    "\n",
    "lhs_x = zeros(d,d);\n",
    "lhs_y = zeros(d,d);\n",
    "\n",
    "for s in 1:2^n\n",
    "    if mu[s]>0\n",
    "        y_s = zeros(d,d);\n",
    "        x_s = zeros(d,d);\n",
    "        for i in 1:n\n",
    "            if s÷(2^(i-1))%2==1\n",
    "                x_s += x[i];\n",
    "                y_s += y[i];\n",
    "            end\n",
    "        end\n",
    "        lhs_x += mu[s]*exp(x_s);\n",
    "        lhs_y += mu[s]*exp(y_s);\n",
    "    end\n",
    "end\n",
    "\n",
    "lhs = tr(exp(log(lhs_y)+(1-lambda)/lambda*log(lhs_x)));\n",
    "\n",
    "rhs_xy = zeros(d,d);\n",
    "for s in 1:2^n\n",
    "    if mu[s]>0\n",
    "        xy_s = zeros(d,d);\n",
    "        for i in 1:n\n",
    "            if s÷(2^(i-1))%2==1\n",
    "                xy_s += log(lambda*exp(y[i])+(1-lambda)*exp(x[i]));\n",
    "            end\n",
    "        end\n",
    "        rhs_xy += mu[s]*exp(xy_s);\n",
    "    end\n",
    "end\n",
    "\n",
    "rhs = tr(exp(1/lambda*log(rhs_xy)));\n",
    "\n",
    "@show rhs-lhs"
   ]
  },
  {
   "cell_type": "code",
   "execution_count": 5,
   "id": "68d6f3d7",
   "metadata": {},
   "outputs": [
    {
     "name": "stdout",
     "output_type": "stream",
     "text": [
      "conj = true\n",
      "iter = 100\n"
     ]
    },
    {
     "data": {
      "text/plain": [
       "100"
      ]
     },
     "execution_count": 5,
     "metadata": {},
     "output_type": "execute_result"
    }
   ],
   "source": [
    "N_iter = 100;\n",
    "T_max = 100;\n",
    "\n",
    "iter = 0;\n",
    "conj = true;\n",
    "while conj && iter<N_iter\n",
    "    \n",
    "\n",
    "    mu = power_k_dpp_mu(n,k,0.3);\n",
    "\n",
    "    y = create_y(n,d);\n",
    "\n",
    "    x = create_y(n,d);\n",
    "\n",
    "    lhs_x = zeros(d,d);\n",
    "    lhs_y = zeros(d,d);\n",
    "\n",
    "    for s in 1:2^n\n",
    "        if mu[s]>0\n",
    "            y_s = zeros(d,d);\n",
    "            x_s = zeros(d,d);\n",
    "            for i in 1:n\n",
    "                if s÷(2^(i-1))%2==1\n",
    "                    x_s += x[i];\n",
    "                    y_s += y[i];\n",
    "                end\n",
    "            end\n",
    "            lhs_x += mu[s]*exp(x_s);\n",
    "            lhs_y += mu[s]*exp(y_s);\n",
    "        end\n",
    "    end\n",
    "    \n",
    "    for t in 2:T_max-1\n",
    "        lambda = t/T_max;\n",
    "        \n",
    "        lhs = tr(exp(log(lhs_y)+(1-lambda)/lambda*log(lhs_x)));\n",
    "\n",
    "        rhs_xy = zeros(d,d);\n",
    "        for s in 1:2^n\n",
    "            if mu[s]>0\n",
    "                xy_s = zeros(d,d);\n",
    "                for i in 1:n\n",
    "                    if s÷(2^(i-1))%2==1\n",
    "                        xy_s += log(lambda*exp(y[i])+(1-lambda)*exp(x[i]));\n",
    "                    end\n",
    "                end\n",
    "                rhs_xy += mu[s]*exp(xy_s);\n",
    "            end\n",
    "        end\n",
    "\n",
    "        rhs = tr(exp(1/lambda*log(rhs_xy)));\n",
    "        \n",
    "        if real(rhs)<real(lhs)\n",
    "            conj = false;\n",
    "        end\n",
    "    end\n",
    "    \n",
    "    iter += 1;\n",
    "end\n",
    "\n",
    "\n",
    "@show conj\n",
    "@show iter"
   ]
  }
 ],
 "metadata": {
  "kernelspec": {
   "display_name": "Julia 1.6.2",
   "language": "julia",
   "name": "julia-1.6"
  },
  "language_info": {
   "file_extension": ".jl",
   "mimetype": "application/julia",
   "name": "julia",
   "version": "1.6.2"
  }
 },
 "nbformat": 4,
 "nbformat_minor": 5
}
